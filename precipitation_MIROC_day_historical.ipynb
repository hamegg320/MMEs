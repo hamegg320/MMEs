{
  "nbformat": 4,
  "nbformat_minor": 0,
  "metadata": {
    "colab": {
      "provenance": [],
      "toc_visible": true,
      "authorship_tag": "ABX9TyOeqX/p57wRcU5Zq2S79DoC",
      "include_colab_link": true
    },
    "kernelspec": {
      "name": "python3",
      "display_name": "Python 3"
    },
    "language_info": {
      "name": "python"
    }
  },
  "cells": [
    {
      "cell_type": "markdown",
      "metadata": {
        "id": "view-in-github",
        "colab_type": "text"
      },
      "source": [
        "<a href=\"https://colab.research.google.com/github/hamegg320/MMEs/blob/main/precipitation_MIROC_day_historical.ipynb\" target=\"_parent\"><img src=\"https://colab.research.google.com/assets/colab-badge.svg\" alt=\"Open In Colab\"/></a>"
      ]
    },
    {
      "cell_type": "code",
      "execution_count": null,
      "metadata": {
        "id": "kb2HDoXOFEuf"
      },
      "outputs": [],
      "source": [
        "# Google Driveに接続させる\n",
        "from google.colab import drive\n",
        "drive.mount('/content/drive')"
      ]
    },
    {
      "cell_type": "code",
      "source": [
        "# 作業ディレクトリを移動する　→　そのディレクトリでデータを保存できる\n",
        "%cd /content/drive/MyDrive/nozue_version/surface_temperature_model/"
      ],
      "metadata": {
        "id": "nPupp8nqFL4u"
      },
      "execution_count": null,
      "outputs": []
    },
    {
      "cell_type": "code",
      "source": [
        "# 作業領域を確認する\n",
        "%ls"
      ],
      "metadata": {
        "id": "D853hEThFNtI"
      },
      "execution_count": null,
      "outputs": []
    },
    {
      "cell_type": "code",
      "source": [
        "pip install netCDF4"
      ],
      "metadata": {
        "id": "1pyuqWZFFPib"
      },
      "execution_count": null,
      "outputs": []
    },
    {
      "cell_type": "code",
      "source": [
        "### Import modules\n",
        "import os\n",
        "import csv\n",
        "import math\n",
        "from netCDF4 import Dataset\n",
        "import matplotlib.pyplot as plt"
      ],
      "metadata": {
        "id": "bPD12OOgFRAS"
      },
      "execution_count": null,
      "outputs": []
    },
    {
      "cell_type": "code",
      "source": [],
      "metadata": {
        "id": "XFnNvV7CFSrG"
      },
      "execution_count": null,
      "outputs": []
    }
  ]
}